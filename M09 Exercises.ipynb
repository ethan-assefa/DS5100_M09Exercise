{
 "cells": [
  {
   "cell_type": "markdown",
   "metadata": {},
   "source": [
    "## Module 09 Exercises\n",
    "#### 7/31/2023\n",
    "#### Ethan Assefa\n",
    "\n",
    "### Create a Package\n",
    "1. Create a new git repo for your package\n",
    "2. Create and edit the required files and directories for your package\n",
    "3. Write a module file in the repo that contains at least one function and save it in the correct directory\n",
    "4. Stage, commit, and push all the files you've created.\n",
    "5. Install your package with `pip`\n",
    "6. Outsude of your package directory write a script to test your method"
   ]
  },
  {
   "cell_type": "code",
   "execution_count": 1,
   "metadata": {},
   "outputs": [
    {
     "name": "stdout",
     "output_type": "stream",
     "text": [
      ".:\n",
      "total 40\n",
      "drwxr-sr-x 3 eda8ek users  1536 Jul 31 10:44 ExamplePackage\n",
      "-rw-r--r-- 1 eda8ek users 18092 Jul 31 10:33 LICENSE\n",
      "-rw-r--r-- 1 eda8ek users   857 Jul 31 10:45 M09 Exercises.ipynb\n",
      "-rw-r--r-- 1 eda8ek users    85 Jul 31 10:33 README.md\n",
      "-rw-r--r-- 1 eda8ek users   381 Jul 31 10:42 setup.py\n",
      "\n",
      "./ExamplePackage:\n",
      "total 8\n",
      "-rw-r--r-- 1 eda8ek users 120 Jul 31 10:42 ExampleFunc.py\n",
      "-rw-r--r-- 1 eda8ek users 184 Jul 31 10:44 __init__.py\n"
     ]
    }
   ],
   "source": [
    "!ls -lR"
   ]
  },
  {
   "cell_type": "code",
   "execution_count": 14,
   "metadata": {},
   "outputs": [
    {
     "name": "stdout",
     "output_type": "stream",
     "text": [
      "Defaulting to user installation because normal site-packages is not writeable\n",
      "Obtaining file:///sfs/qumulo/qhome/eda8ek/Documents/MSDS/DS5100/DS5100_M09Exercise\n",
      "Installing collected packages: ExamplePackage\n",
      "  Attempting uninstall: ExamplePackage\n",
      "    Found existing installation: ExamplePackage 1.2.0\n",
      "    Uninstalling ExamplePackage-1.2.0:\n",
      "      Successfully uninstalled ExamplePackage-1.2.0\n",
      "  Running setup.py develop for ExamplePackage\n",
      "Successfully installed ExamplePackage\n"
     ]
    }
   ],
   "source": [
    "!pip install -e ."
   ]
  },
  {
   "cell_type": "code",
   "execution_count": 4,
   "metadata": {},
   "outputs": [],
   "source": [
    "# Import the package\n",
    "import ExamplePackage.ExampleFunc as EP"
   ]
  },
  {
   "cell_type": "code",
   "execution_count": 5,
   "metadata": {},
   "outputs": [
    {
     "name": "stdout",
     "output_type": "stream",
     "text": [
      "Packages are hard. I don't understand many things.\n"
     ]
    }
   ],
   "source": [
    "# Run the example function\n",
    "EP.ExampleFunc()"
   ]
  }
 ],
 "metadata": {
  "kernelspec": {
   "display_name": "Python 3",
   "language": "python",
   "name": "python3"
  },
  "language_info": {
   "codemirror_mode": {
    "name": "ipython",
    "version": 3
   },
   "file_extension": ".py",
   "mimetype": "text/x-python",
   "name": "python",
   "nbconvert_exporter": "python",
   "pygments_lexer": "ipython3",
   "version": "3.8.8"
  }
 },
 "nbformat": 4,
 "nbformat_minor": 4
}
